{
 "cells": [
  {
   "cell_type": "code",
   "execution_count": 21,
   "metadata": {
    "id": "UfS9klMysiJe"
   },
   "outputs": [],
   "source": [
    "import pandas as pd\n",
    "import numpy as np\n",
    "\n",
    "import seaborn as sns\n",
    "import matplotlib.pyplot as plt\n",
    "\n",
    "import plotly.express as px\n",
    "import plotly.graph_objects as go\n",
    "import plotly.figure_factory as ff\n",
    "\n",
    "from sklearn.model_selection import train_test_split\n",
    "from sklearn.preprocessing import StandardScaler   # u otros scalers\n",
    "from sklearn.linear_model import LinearRegression, Lasso, Ridge, ElasticNet, LassoCV, RidgeCV, ElasticNetCV\n",
    "from sklearn.metrics import mean_squared_error, r2_score\n",
    "from distancia import haversine"
   ]
  },
  {
   "cell_type": "code",
   "execution_count": 84,
   "metadata": {
    "id": "Etu10JAIsiJk"
   },
   "outputs": [],
   "source": [
    "### carga datos de dataset en dataframe\n",
    "file_path= 'uber_fares.csv'\n",
    "\n",
    "df = pd.read_csv(file_path)"
   ]
  },
  {
   "cell_type": "code",
   "execution_count": 69,
   "metadata": {
    "id": "E4wFXcfZsiJm",
    "outputId": "26d5e365-cdcd-48ff-df86-65ef8a784b32"
   },
   "outputs": [
    {
     "data": {
      "text/html": [
       "<div>\n",
       "<style scoped>\n",
       "    .dataframe tbody tr th:only-of-type {\n",
       "        vertical-align: middle;\n",
       "    }\n",
       "\n",
       "    .dataframe tbody tr th {\n",
       "        vertical-align: top;\n",
       "    }\n",
       "\n",
       "    .dataframe thead th {\n",
       "        text-align: right;\n",
       "    }\n",
       "</style>\n",
       "<table border=\"1\" class=\"dataframe\">\n",
       "  <thead>\n",
       "    <tr style=\"text-align: right;\">\n",
       "      <th></th>\n",
       "      <th>key</th>\n",
       "      <th>date</th>\n",
       "      <th>fare_amount</th>\n",
       "      <th>pickup_datetime</th>\n",
       "      <th>pickup_longitude</th>\n",
       "      <th>pickup_latitude</th>\n",
       "      <th>dropoff_longitude</th>\n",
       "      <th>dropoff_latitude</th>\n",
       "      <th>passenger_count</th>\n",
       "    </tr>\n",
       "  </thead>\n",
       "  <tbody>\n",
       "    <tr>\n",
       "      <th>0</th>\n",
       "      <td>24238194</td>\n",
       "      <td>2015-05-07 19:52:06.0000003</td>\n",
       "      <td>7.5</td>\n",
       "      <td>2015-05-07 19:52:06 UTC</td>\n",
       "      <td>-73.999817</td>\n",
       "      <td>40.738354</td>\n",
       "      <td>-73.999512</td>\n",
       "      <td>40.723217</td>\n",
       "      <td>1</td>\n",
       "    </tr>\n",
       "    <tr>\n",
       "      <th>1</th>\n",
       "      <td>27835199</td>\n",
       "      <td>2009-07-17 20:04:56.0000002</td>\n",
       "      <td>7.7</td>\n",
       "      <td>2009-07-17 20:04:56 UTC</td>\n",
       "      <td>-73.994355</td>\n",
       "      <td>40.728225</td>\n",
       "      <td>-73.994710</td>\n",
       "      <td>40.750325</td>\n",
       "      <td>1</td>\n",
       "    </tr>\n",
       "    <tr>\n",
       "      <th>2</th>\n",
       "      <td>44984355</td>\n",
       "      <td>2009-08-24 21:45:00.00000061</td>\n",
       "      <td>12.9</td>\n",
       "      <td>2009-08-24 21:45:00 UTC</td>\n",
       "      <td>-74.005043</td>\n",
       "      <td>40.740770</td>\n",
       "      <td>-73.962565</td>\n",
       "      <td>40.772647</td>\n",
       "      <td>1</td>\n",
       "    </tr>\n",
       "    <tr>\n",
       "      <th>3</th>\n",
       "      <td>25894730</td>\n",
       "      <td>2009-06-26 08:22:21.0000001</td>\n",
       "      <td>5.3</td>\n",
       "      <td>2009-06-26 08:22:21 UTC</td>\n",
       "      <td>-73.976124</td>\n",
       "      <td>40.790844</td>\n",
       "      <td>-73.965316</td>\n",
       "      <td>40.803349</td>\n",
       "      <td>3</td>\n",
       "    </tr>\n",
       "    <tr>\n",
       "      <th>4</th>\n",
       "      <td>17610152</td>\n",
       "      <td>2014-08-28 17:47:00.000000188</td>\n",
       "      <td>16.0</td>\n",
       "      <td>2014-08-28 17:47:00 UTC</td>\n",
       "      <td>-73.925023</td>\n",
       "      <td>40.744085</td>\n",
       "      <td>-73.973082</td>\n",
       "      <td>40.761247</td>\n",
       "      <td>5</td>\n",
       "    </tr>\n",
       "  </tbody>\n",
       "</table>\n",
       "</div>"
      ],
      "text/plain": [
       "        key                           date  fare_amount  \\\n",
       "0  24238194    2015-05-07 19:52:06.0000003          7.5   \n",
       "1  27835199    2009-07-17 20:04:56.0000002          7.7   \n",
       "2  44984355   2009-08-24 21:45:00.00000061         12.9   \n",
       "3  25894730    2009-06-26 08:22:21.0000001          5.3   \n",
       "4  17610152  2014-08-28 17:47:00.000000188         16.0   \n",
       "\n",
       "           pickup_datetime  pickup_longitude  pickup_latitude  \\\n",
       "0  2015-05-07 19:52:06 UTC        -73.999817        40.738354   \n",
       "1  2009-07-17 20:04:56 UTC        -73.994355        40.728225   \n",
       "2  2009-08-24 21:45:00 UTC        -74.005043        40.740770   \n",
       "3  2009-06-26 08:22:21 UTC        -73.976124        40.790844   \n",
       "4  2014-08-28 17:47:00 UTC        -73.925023        40.744085   \n",
       "\n",
       "   dropoff_longitude  dropoff_latitude  passenger_count  \n",
       "0         -73.999512         40.723217                1  \n",
       "1         -73.994710         40.750325                1  \n",
       "2         -73.962565         40.772647                1  \n",
       "3         -73.965316         40.803349                3  \n",
       "4         -73.973082         40.761247                5  "
      ]
     },
     "execution_count": 69,
     "metadata": {},
     "output_type": "execute_result"
    }
   ],
   "source": [
    "### visualizacion de algunos datos\n",
    "df.head()"
   ]
  },
  {
   "cell_type": "markdown",
   "metadata": {
    "id": "xd_uOYe1siJn"
   },
   "source": [
    "#### Contexto  \n",
    "El proyecto trata sobre **Uber Inc.**, la compañía de taxis más grande del mundo. En este trabajo, nuestro objetivo es **predecir la tarifa de futuros viajes**.  \n",
    "\n",
    "Uber brinda servicio a millones de clientes cada día, por lo que gestionar adecuadamente sus datos es clave para desarrollar nuevas estrategias de negocio y obtener mejores resultados.  \n",
    "\n",
    "### Variables del conjunto de datos  \n",
    "\n",
    "**Variables explicativas:**  \n",
    "- **key**: identificador único de cada viaje.  \n",
    "- **pickup_datetime**: fecha y hora en que se inició el viaje.  \n",
    "- **passenger_count**: cantidad de pasajeros en el vehículo (dato ingresado por el conductor).  \n",
    "- **pickup_longitude**: longitud del punto de inicio del viaje.  \n",
    "- **pickup_latitude**: latitud del punto de inicio del viaje.  \n",
    "- **dropoff_longitude**: longitud del punto de destino.  \n",
    "- **dropoff_latitude**: latitud del punto de destino.  \n",
    "\n",
    "**Variable objetivo (target):**  \n",
    "- **fare_amount**: costo del viaje en dólares.  "
   ]
  },
  {
   "cell_type": "code",
   "execution_count": 70,
   "metadata": {
    "id": "tf2N8kt_siJp",
    "outputId": "8b0f80b4-5783-4e13-cc89-aa7416b0f0f3"
   },
   "outputs": [
    {
     "data": {
      "text/plain": [
       "Index(['key', 'date', 'fare_amount', 'pickup_datetime', 'pickup_longitude',\n",
       "       'pickup_latitude', 'dropoff_longitude', 'dropoff_latitude',\n",
       "       'passenger_count'],\n",
       "      dtype='object')"
      ]
     },
     "execution_count": 70,
     "metadata": {},
     "output_type": "execute_result"
    }
   ],
   "source": [
    "### Columnas, ¿cuáles son variables numéricas y cuales variables categóricas?\n",
    "df.columns"
   ]
  },
  {
   "cell_type": "markdown",
   "metadata": {},
   "source": [
    "En este dataset trabajaremos con algunas columnas de interes, las cuales clasificamos a continuacion dependiendo el tipo de variable:\n",
    "\n",
    "*   **fare_amount:**   cuantitativa continua\n",
    "*   **pickup_datetime:** cualitativa nominal\n",
    "*   **pickup_longitude:** cuantitativa continua\n",
    "*   **pickup_latitude:** cuantitativa continua\n",
    "*   **dropoff_longitude:** cuantitativa continua\n",
    "*   **dropoff_latitude:** cuantitativa continua\n",
    "*   **passenger_count:** cuantitativa discreta\n",
    "\n",
    "Lo primero que realizaremos será utilizar el método `.info()` para verificar que el tipo de dato en cada variable es correcto, detectar la presencia de valores nulos y valores atípicos."
   ]
  },
  {
   "cell_type": "code",
   "execution_count": 71,
   "metadata": {
    "id": "4G7p47V_siJq",
    "outputId": "a7eb128e-f4ae-4332-c92d-162cc8733da7"
   },
   "outputs": [
    {
     "name": "stdout",
     "output_type": "stream",
     "text": [
      "<class 'pandas.core.frame.DataFrame'>\n",
      "RangeIndex: 200000 entries, 0 to 199999\n",
      "Data columns (total 9 columns):\n",
      " #   Column             Non-Null Count   Dtype  \n",
      "---  ------             --------------   -----  \n",
      " 0   key                200000 non-null  int64  \n",
      " 1   date               200000 non-null  object \n",
      " 2   fare_amount        200000 non-null  float64\n",
      " 3   pickup_datetime    200000 non-null  object \n",
      " 4   pickup_longitude   200000 non-null  float64\n",
      " 5   pickup_latitude    200000 non-null  float64\n",
      " 6   dropoff_longitude  199999 non-null  float64\n",
      " 7   dropoff_latitude   199999 non-null  float64\n",
      " 8   passenger_count    200000 non-null  int64  \n",
      "dtypes: float64(5), int64(2), object(2)\n",
      "memory usage: 13.7+ MB\n"
     ]
    }
   ],
   "source": [
    "df.info()"
   ]
  },
  {
   "cell_type": "markdown",
   "metadata": {},
   "source": [
    "### Limpieza de los datos\n",
    "Podemos observar a traves del 'df.info' que tenemos 200.000 datos donde las columnas 'dropoff_longitude' y 'dropoff_latitude' poseen un valor faltante en sus datos. Consideramos que al tener una muestra de datos abundante, decidimos eliminarlos del dataset ya que no afecta al entrenamiento del modelo y evitar imputar los datos con un valor promedio. Además, modificamos el tipo de dato de 'pickup_datetime' para verificar que todas las fechas ingresadas hayan sido correctamente cargadas."
   ]
  },
  {
   "cell_type": "code",
   "execution_count": 85,
   "metadata": {},
   "outputs": [],
   "source": [
    "df['pickup_datetime'] = pd.to_datetime(df['pickup_datetime'])                   # Cambia el tipo de dato object -> datetime\n",
    "df.dropna(inplace=True)                                                         # Elimina las filas con valores nulos\n",
    "\n",
    "# Eliminación de columnas que no son de interes\n",
    "df = df.drop('key', axis = 1)\n",
    "df = df.drop('date', axis = 1)"
   ]
  },
  {
   "cell_type": "markdown",
   "metadata": {},
   "source": [
    "Luego de esto, realizamos un 'describe' sobre las variables numericas y consideramos los resultados para analizar cada variable del dataset."
   ]
  },
  {
   "cell_type": "code",
   "execution_count": 86,
   "metadata": {},
   "outputs": [
    {
     "data": {
      "text/html": [
       "<div>\n",
       "<style scoped>\n",
       "    .dataframe tbody tr th:only-of-type {\n",
       "        vertical-align: middle;\n",
       "    }\n",
       "\n",
       "    .dataframe tbody tr th {\n",
       "        vertical-align: top;\n",
       "    }\n",
       "\n",
       "    .dataframe thead th {\n",
       "        text-align: right;\n",
       "    }\n",
       "</style>\n",
       "<table border=\"1\" class=\"dataframe\">\n",
       "  <thead>\n",
       "    <tr style=\"text-align: right;\">\n",
       "      <th></th>\n",
       "      <th>fare_amount</th>\n",
       "      <th>pickup_longitude</th>\n",
       "      <th>pickup_latitude</th>\n",
       "      <th>dropoff_longitude</th>\n",
       "      <th>dropoff_latitude</th>\n",
       "      <th>passenger_count</th>\n",
       "    </tr>\n",
       "  </thead>\n",
       "  <tbody>\n",
       "    <tr>\n",
       "      <th>count</th>\n",
       "      <td>199999.000000</td>\n",
       "      <td>199999.000000</td>\n",
       "      <td>199999.000000</td>\n",
       "      <td>199999.000000</td>\n",
       "      <td>199999.000000</td>\n",
       "      <td>199999.000000</td>\n",
       "    </tr>\n",
       "    <tr>\n",
       "      <th>mean</th>\n",
       "      <td>11.359892</td>\n",
       "      <td>-72.527631</td>\n",
       "      <td>39.935881</td>\n",
       "      <td>-72.525292</td>\n",
       "      <td>39.923890</td>\n",
       "      <td>1.684543</td>\n",
       "    </tr>\n",
       "    <tr>\n",
       "      <th>std</th>\n",
       "      <td>9.901760</td>\n",
       "      <td>11.437815</td>\n",
       "      <td>7.720558</td>\n",
       "      <td>13.117408</td>\n",
       "      <td>6.794829</td>\n",
       "      <td>1.385995</td>\n",
       "    </tr>\n",
       "    <tr>\n",
       "      <th>min</th>\n",
       "      <td>-52.000000</td>\n",
       "      <td>-1340.648410</td>\n",
       "      <td>-74.015515</td>\n",
       "      <td>-3356.666300</td>\n",
       "      <td>-881.985513</td>\n",
       "      <td>0.000000</td>\n",
       "    </tr>\n",
       "    <tr>\n",
       "      <th>25%</th>\n",
       "      <td>6.000000</td>\n",
       "      <td>-73.992065</td>\n",
       "      <td>40.734796</td>\n",
       "      <td>-73.991407</td>\n",
       "      <td>40.733823</td>\n",
       "      <td>1.000000</td>\n",
       "    </tr>\n",
       "    <tr>\n",
       "      <th>50%</th>\n",
       "      <td>8.500000</td>\n",
       "      <td>-73.981823</td>\n",
       "      <td>40.752592</td>\n",
       "      <td>-73.980093</td>\n",
       "      <td>40.753042</td>\n",
       "      <td>1.000000</td>\n",
       "    </tr>\n",
       "    <tr>\n",
       "      <th>75%</th>\n",
       "      <td>12.500000</td>\n",
       "      <td>-73.967154</td>\n",
       "      <td>40.767158</td>\n",
       "      <td>-73.963658</td>\n",
       "      <td>40.768001</td>\n",
       "      <td>2.000000</td>\n",
       "    </tr>\n",
       "    <tr>\n",
       "      <th>max</th>\n",
       "      <td>499.000000</td>\n",
       "      <td>57.418457</td>\n",
       "      <td>1644.421482</td>\n",
       "      <td>1153.572603</td>\n",
       "      <td>872.697628</td>\n",
       "      <td>208.000000</td>\n",
       "    </tr>\n",
       "  </tbody>\n",
       "</table>\n",
       "</div>"
      ],
      "text/plain": [
       "         fare_amount  pickup_longitude  pickup_latitude  dropoff_longitude  \\\n",
       "count  199999.000000     199999.000000    199999.000000      199999.000000   \n",
       "mean       11.359892        -72.527631        39.935881         -72.525292   \n",
       "std         9.901760         11.437815         7.720558          13.117408   \n",
       "min       -52.000000      -1340.648410       -74.015515       -3356.666300   \n",
       "25%         6.000000        -73.992065        40.734796         -73.991407   \n",
       "50%         8.500000        -73.981823        40.752592         -73.980093   \n",
       "75%        12.500000        -73.967154        40.767158         -73.963658   \n",
       "max       499.000000         57.418457      1644.421482        1153.572603   \n",
       "\n",
       "       dropoff_latitude  passenger_count  \n",
       "count     199999.000000    199999.000000  \n",
       "mean          39.923890         1.684543  \n",
       "std            6.794829         1.385995  \n",
       "min         -881.985513         0.000000  \n",
       "25%           40.733823         1.000000  \n",
       "50%           40.753042         1.000000  \n",
       "75%           40.768001         2.000000  \n",
       "max          872.697628       208.000000  "
      ]
     },
     "execution_count": 86,
     "metadata": {},
     "output_type": "execute_result"
    }
   ],
   "source": [
    "df.describe()"
   ]
  },
  {
   "cell_type": "markdown",
   "metadata": {},
   "source": [
    "##### **Análisis de la columna `passenger_count`:**\n",
    "\n",
    "A partir del análisis exploratorio mediante `df.describe()`, se detectó que el valor máximo registrado en la variable fue de 208 pasajeros por viaje, lo cual constituye un error en la carga de datos. Para visualizar la distribución se realizaron diferentes gráficos:  \n",
    "\n",
    "- En el **primer boxplot**, se observa claramente el valor atípico de 208, lo que impide una correcta interpretación del resto de los datos.  \n",
    "- Al excluir dicho valor extremo, el **segundo boxplot** permite observar mejor la dispersión real de la variable.  \n",
    "\n",
    "Además, se identificaron registros con 0 pasajeros, los cuales también son inconsistentes, ya que un viaje no puede realizarse sin pasajeros.  \n"
   ]
  },
  {
   "cell_type": "code",
   "execution_count": 87,
   "metadata": {},
   "outputs": [
    {
     "data": {
      "image/png": "[encoded data removed]",
      "text/plain": [
       "<Figure size 1200x500 with 2 Axes>"
      ]
     },
     "metadata": {},
     "output_type": "display_data"
    }
   ],
   "source": [
    "plt.figure(figsize=(12,5))\n",
    "plt.subplot(1, 2, 1)\n",
    "sns.boxplot(x = df['passenger_count'])\n",
    "plt.title('Boxplot de cantidad de pasajeros sin filtrar')\n",
    "plt.xlabel('Cantidad de pasajeros')\n",
    "\n",
    "plt.subplot(1, 2, 2)\n",
    "sns.boxplot(x = df[df['passenger_count'] < 208]['passenger_count'])\n",
    "plt.title('Boxplot de cantidad de pasajero filtrado')\n",
    "plt.xlabel('Cantidad de pasajeros')\n",
    "\n",
    "plt.show()"
   ]
  },
  {
   "cell_type": "markdown",
   "metadata": {},
   "source": [
    "Para solucionar este problema y no eliminar dichos registros, se decidió imputar el valor atípico de 208 y tratar los datos con 0 pasajeros con la **mediana de la distribución**. La mediana es la medida de tendencia central y es robusta frente a valores atípicos y representa de forma adecuada la cantidad más común de pasajeros en los viajes (generalmente 1). Finalmente, la columna fue convertida a valores enteros para mantener consistencia en la variable.\n"
   ]
  },
  {
   "cell_type": "code",
   "execution_count": 88,
   "metadata": {},
   "outputs": [],
   "source": [
    "from sklearn.impute import SimpleImputer\n",
    "\n",
    "df.loc[df['passenger_count'] == 208, 'passenger_count'] = pd.NA\n",
    "df.loc[df['passenger_count'] == 0, 'passenger_count'] = pd.NA\n",
    "imputer = SimpleImputer(strategy='median')                                      # Imputar con la mediana\n",
    "df['passenger_count'] = imputer.fit_transform(df[['passenger_count']])\n",
    "df['passenger_count'] = df['passenger_count'].astype(int)"
   ]
  },
  {
   "cell_type": "code",
   "execution_count": 91,
   "metadata": {},
   "outputs": [
    {
     "data": {
      "image/png": "[encoded data removed]",
      "text/plain": [
       "<Figure size 640x480 with 1 Axes>"
      ]
     },
     "metadata": {},
     "output_type": "display_data"
    }
   ],
   "source": [
    "plt.hist(df['passenger_count'], color = 'green')\n",
    "plt.title('Histograma de cantidad de pasajeros')\n",
    "plt.xlabel('Cantidad de pasajeros')\n",
    "plt.ylabel('Frecuencia')\n",
    "plt.show()"
   ]
  },
  {
   "cell_type": "markdown",
   "metadata": {},
   "source": [
    "##### Análisis de las columnas `pickup_latitude`, `dropoff_latitude`, `pickup_longitude` y `dropoff_longitude`\n",
    "\n",
    "Para analizar estos datos, lo primero que realizamos fue la visualización gráfica de cada variable. En estas gráficas se observan bastantes valores atípicos que no corresponden a la zona de estudio de interes. Dado que el dataset corresponde a viajes realizados en la ciudad de **New York**, se decidió aplicar un filtro basado en su ubicación geográfica:  \n",
    "\n",
    "- **Rangos globales válidos**:  \n",
    "  - Latitud: -90 a 90  \n",
    "  - Longitud: -180 a 180  \n",
    "\n",
    "- **Rangos aproximados para New York**:  \n",
    "  - Latitud: 40.50 a 41.00  \n",
    "  - Longitud: -74.20 a -73.60  \n",
    "\n",
    "De esta manera, se eliminan registros con coordenadas fuera de este rango, ya que son considerados como datos no representativos de la zona de análisis."
   ]
  },
  {
   "cell_type": "code",
   "execution_count": 92,
   "metadata": {},
   "outputs": [
    {
     "data": {
      "image/png": "[encoded data removed]",
      "text/plain": [
       "<Figure size 2400x500 with 4 Axes>"
      ]
     },
     "metadata": {},
     "output_type": "display_data"
    }
   ],
   "source": [
    "plt.figure(figsize=(24,5))\n",
    "\n",
    "plt.subplot(1, 4, 1)\n",
    "plt.title(\"Datos de 'pickup_longitude'\")\n",
    "sns.boxplot(df['pickup_longitude'])\n",
    "plt.ylabel('Longitud de inicio')\n",
    "\n",
    "plt.subplot(1, 4, 2)\n",
    "plt.title(\"Datos de 'dropoff_longitude'\")\n",
    "sns.boxplot(df['dropoff_longitude'])\n",
    "plt.ylabel('Longitud final')\n",
    "\n",
    "plt.subplot(1, 4, 3)\n",
    "plt.title(\"Datos de 'pickup_latitude'\")\n",
    "sns.boxplot(df['pickup_latitude'])\n",
    "plt.ylabel('Latitud de inicio')\n",
    "\n",
    "plt.subplot(1, 4, 4)\n",
    "plt.title(\"Datos de 'dropoff_latitude'\")\n",
    "sns.boxplot(df['dropoff_latitude'])\n",
    "plt.ylabel('Latitud final')\n",
    "\n",
    "plt.show()"
   ]
  },
  {
   "cell_type": "code",
   "execution_count": 93,
   "metadata": {},
   "outputs": [
    {
     "name": "stdout",
     "output_type": "stream",
     "text": [
      "datos nulos en latitud y longitud: 3587\n",
      "datos nulos en longitud: 3587\n",
      "datos nulos en latitud: 3587\n",
      "\n",
      "datos nulos en longitud inicio: 3786\n",
      "datos nulos en longitud final: 3764\n",
      "datos nulos en latitud inicio: 3782\n",
      "datos nulos en latitud final: 3758\n",
      "\n"
     ]
    }
   ],
   "source": [
    "longitud = df[(df['pickup_longitude'] == 0.00) & (df['dropoff_longitude'] == 0.00)].value_counts().sum()  # 3587 datos\n",
    "latitud = df[(df['pickup_longitude'] == 0.00) & (df['dropoff_longitude'] == 0.00)].value_counts().sum()   # 3587 datos\n",
    "lat_long = df[(df['pickup_latitude'] == 0.00) & (df['dropoff_latitude'] == 0.00) & (df['pickup_longitude'] == 0.00) & (df['dropoff_longitude'] == 0.00)].value_counts().sum()\n",
    "print(f'datos nulos en latitud y longitud: {lat_long}') # 3587 datos\n",
    "print(f'datos nulos en longitud: {longitud}')\n",
    "print(f'datos nulos en latitud: {latitud}\\n')\n",
    "\n",
    "longitud1 = df[df['dropoff_longitude'] == 0.00].value_counts().sum()  # 177 datos\n",
    "longitud2 = df[df['pickup_longitude'] == 0.00].value_counts().sum()   # 199 datos \n",
    "latitud1 = df[(df['pickup_latitude'] == 0.00)].value_counts().sum()   # 177 datos \n",
    "latitud2 = df[(df['dropoff_latitude'] == 0.00)].value_counts().sum()  # 171 datos \n",
    "print(f'datos nulos en longitud inicio: {longitud2}')\n",
    "print(f'datos nulos en longitud final: {longitud1}')\n",
    "print(f'datos nulos en latitud inicio: {latitud1}')\n",
    "print(f'datos nulos en latitud final: {latitud2}\\n')"
   ]
  },
  {
   "cell_type": "markdown",
   "metadata": {},
   "source": [
    "Podemos observar que existen registros en los cuales tanto la latitud como la longitud (de inicio y de destino) tienen valor igual a 0. Estos registros no aportan información relevante al análisis, ya que corresponden a errores de carga, por lo que se decidió **eliminarlos del dataset** para trabajar únicamente con datos reales.  \n",
    "\n",
    "Por otro lado, aquellos registros en los que solo **una de las coordenadas** (latitud o longitud, ya sea en inicio o destino) tiene valor igual a 0, pueden ser recuperados. En este caso, en lugar de eliminarlos, se optó por reemplazar dichos valores utilizando el método de imputación por K-vecinos más cercanos (KNN), lo cual permite estimar las coordenadas faltantes en base a los viajes más similares."
   ]
  },
  {
   "cell_type": "code",
   "execution_count": 95,
   "metadata": {},
   "outputs": [],
   "source": [
    "from sklearn.impute import KNNImputer\n",
    "\n",
    "# Eliminar filas con todas las coordenadas en 0\n",
    "indices_invalidos = df[(df['pickup_latitude'] == 0.00) &(df['dropoff_latitude'] == 0.00) &(df['pickup_longitude'] == 0.00) &(df['dropoff_longitude'] == 0.00)].index\n",
    "df = df.drop(indices_invalidos)\n",
    "\n",
    "columnas = ['pickup_longitude', 'pickup_latitude', 'dropoff_longitude', 'dropoff_latitude']\n",
    "#k muy pequeño → más sensible a ruido. k muy grande → valores muy suavizados, se pierde variabilidad real.\n",
    "# Reemplazar 0.0 por NaN para que KNNImputer los impute\n",
    "df[columnas] = df[columnas].replace(0.0, np.nan)\n",
    "\n",
    "# Crear imputador KNN\n",
    "knn_imputer = KNNImputer(n_neighbors=5)\n",
    "df[columnas] = knn_imputer.fit_transform(df[columnas]).round(6)"
   ]
  },
  {
   "cell_type": "code",
   "execution_count": 96,
   "metadata": {},
   "outputs": [
    {
     "data": {
      "image/png": "[encoded data removed]",
      "text/plain": [
       "<Figure size 2400x500 with 4 Axes>"
      ]
     },
     "metadata": {},
     "output_type": "display_data"
    }
   ],
   "source": [
    "plt.figure(figsize=(24,5))\n",
    "\n",
    "plt.subplot(1, 4, 1)\n",
    "plt.title(\"Datos de 'pickup_longitude'\")\n",
    "sns.boxplot(df[(df['pickup_longitude'] > -74.2) & (df['pickup_longitude'] < -73.6)]['pickup_longitude'], color=\"skyblue\")\n",
    "plt.ylabel('Longitud de inicio')\n",
    "\n",
    "\n",
    "plt.subplot(1, 4, 2)\n",
    "plt.title(\"Datos de 'dropoff_longitude'\")\n",
    "sns.boxplot(df[(df['dropoff_longitude'] > -74.2) & (df['dropoff_longitude'] < -73.6)]['dropoff_longitude'], color=\"pink\")\n",
    "plt.ylabel('Longitud final')\n",
    "\n",
    "plt.subplot(1, 4, 3)\n",
    "plt.title(\"Datos de 'pickup_latitude'\")\n",
    "sns.boxplot(df[(df['pickup_latitude'] > 40.5) & (df['pickup_latitude'] < 41)]['pickup_latitude'], color=\"skyblue\")\n",
    "plt.ylabel('Latitud de inicio')\n",
    "\n",
    "plt.subplot(1, 4, 4)\n",
    "plt.title(\"Datos de 'dropoff_latitude'\")\n",
    "sns.boxplot(df[(df['dropoff_latitude'] > 40.5) & (df['dropoff_latitude'] < 41)]['dropoff_latitude'], color=\"pink\")\n",
    "plt.ylabel('Latitud final')\n",
    "\n",
    "plt.show()"
   ]
  },
  {
   "cell_type": "markdown",
   "metadata": {},
   "source": [
    "tenemos 1 nulo en dropoff_longitude y dropoff_latitude"
   ]
  },
  {
   "cell_type": "code",
   "execution_count": 7,
   "metadata": {},
   "outputs": [
    {
     "data": {
      "text/html": [
       "<div>\n",
       "<style scoped>\n",
       "    .dataframe tbody tr th:only-of-type {\n",
       "        vertical-align: middle;\n",
       "    }\n",
       "\n",
       "    .dataframe tbody tr th {\n",
       "        vertical-align: top;\n",
       "    }\n",
       "\n",
       "    .dataframe thead th {\n",
       "        text-align: right;\n",
       "    }\n",
       "</style>\n",
       "<table border=\"1\" class=\"dataframe\">\n",
       "  <thead>\n",
       "    <tr style=\"text-align: right;\">\n",
       "      <th></th>\n",
       "      <th>key</th>\n",
       "      <th>date</th>\n",
       "      <th>fare_amount</th>\n",
       "      <th>pickup_datetime</th>\n",
       "      <th>pickup_longitude</th>\n",
       "      <th>pickup_latitude</th>\n",
       "      <th>dropoff_longitude</th>\n",
       "      <th>dropoff_latitude</th>\n",
       "      <th>passenger_count</th>\n",
       "      <th>delta_lat</th>\n",
       "      <th>delta_lon</th>\n",
       "      <th>distance_km</th>\n",
       "    </tr>\n",
       "  </thead>\n",
       "  <tbody>\n",
       "    <tr>\n",
       "      <th>0</th>\n",
       "      <td>24238194</td>\n",
       "      <td>2015-05-07 19:52:06.0000003</td>\n",
       "      <td>7.5</td>\n",
       "      <td>2015-05-07 19:52:06 UTC</td>\n",
       "      <td>-73.999817</td>\n",
       "      <td>40.738354</td>\n",
       "      <td>-73.999512</td>\n",
       "      <td>40.723217</td>\n",
       "      <td>1</td>\n",
       "      <td>-0.015137</td>\n",
       "      <td>0.000305</td>\n",
       "      <td>1.683323</td>\n",
       "    </tr>\n",
       "    <tr>\n",
       "      <th>1</th>\n",
       "      <td>27835199</td>\n",
       "      <td>2009-07-17 20:04:56.0000002</td>\n",
       "      <td>7.7</td>\n",
       "      <td>2009-07-17 20:04:56 UTC</td>\n",
       "      <td>-73.994355</td>\n",
       "      <td>40.728225</td>\n",
       "      <td>-73.994710</td>\n",
       "      <td>40.750325</td>\n",
       "      <td>1</td>\n",
       "      <td>0.022100</td>\n",
       "      <td>-0.000355</td>\n",
       "      <td>2.457590</td>\n",
       "    </tr>\n",
       "    <tr>\n",
       "      <th>2</th>\n",
       "      <td>44984355</td>\n",
       "      <td>2009-08-24 21:45:00.00000061</td>\n",
       "      <td>12.9</td>\n",
       "      <td>2009-08-24 21:45:00 UTC</td>\n",
       "      <td>-74.005043</td>\n",
       "      <td>40.740770</td>\n",
       "      <td>-73.962565</td>\n",
       "      <td>40.772647</td>\n",
       "      <td>1</td>\n",
       "      <td>0.031877</td>\n",
       "      <td>0.042478</td>\n",
       "      <td>5.036377</td>\n",
       "    </tr>\n",
       "    <tr>\n",
       "      <th>3</th>\n",
       "      <td>25894730</td>\n",
       "      <td>2009-06-26 08:22:21.0000001</td>\n",
       "      <td>5.3</td>\n",
       "      <td>2009-06-26 08:22:21 UTC</td>\n",
       "      <td>-73.976124</td>\n",
       "      <td>40.790844</td>\n",
       "      <td>-73.965316</td>\n",
       "      <td>40.803349</td>\n",
       "      <td>3</td>\n",
       "      <td>0.012505</td>\n",
       "      <td>0.010808</td>\n",
       "      <td>1.661683</td>\n",
       "    </tr>\n",
       "    <tr>\n",
       "      <th>4</th>\n",
       "      <td>17610152</td>\n",
       "      <td>2014-08-28 17:47:00.000000188</td>\n",
       "      <td>16.0</td>\n",
       "      <td>2014-08-28 17:47:00 UTC</td>\n",
       "      <td>-73.925023</td>\n",
       "      <td>40.744085</td>\n",
       "      <td>-73.973082</td>\n",
       "      <td>40.761247</td>\n",
       "      <td>5</td>\n",
       "      <td>0.017162</td>\n",
       "      <td>-0.048059</td>\n",
       "      <td>4.475450</td>\n",
       "    </tr>\n",
       "  </tbody>\n",
       "</table>\n",
       "</div>"
      ],
      "text/plain": [
       "        key                           date  fare_amount  \\\n",
       "0  24238194    2015-05-07 19:52:06.0000003          7.5   \n",
       "1  27835199    2009-07-17 20:04:56.0000002          7.7   \n",
       "2  44984355   2009-08-24 21:45:00.00000061         12.9   \n",
       "3  25894730    2009-06-26 08:22:21.0000001          5.3   \n",
       "4  17610152  2014-08-28 17:47:00.000000188         16.0   \n",
       "\n",
       "           pickup_datetime  pickup_longitude  pickup_latitude  \\\n",
       "0  2015-05-07 19:52:06 UTC        -73.999817        40.738354   \n",
       "1  2009-07-17 20:04:56 UTC        -73.994355        40.728225   \n",
       "2  2009-08-24 21:45:00 UTC        -74.005043        40.740770   \n",
       "3  2009-06-26 08:22:21 UTC        -73.976124        40.790844   \n",
       "4  2014-08-28 17:47:00 UTC        -73.925023        40.744085   \n",
       "\n",
       "   dropoff_longitude  dropoff_latitude  passenger_count  delta_lat  delta_lon  \\\n",
       "0         -73.999512         40.723217                1  -0.015137   0.000305   \n",
       "1         -73.994710         40.750325                1   0.022100  -0.000355   \n",
       "2         -73.962565         40.772647                1   0.031877   0.042478   \n",
       "3         -73.965316         40.803349                3   0.012505   0.010808   \n",
       "4         -73.973082         40.761247                5   0.017162  -0.048059   \n",
       "\n",
       "   distance_km  \n",
       "0     1.683323  \n",
       "1     2.457590  \n",
       "2     5.036377  \n",
       "3     1.661683  \n",
       "4     4.475450  "
      ]
     },
     "execution_count": 7,
     "metadata": {},
     "output_type": "execute_result"
    }
   ],
   "source": [
    "# Agregar mas caraterísticas a partir de las coordenadas geográficas\n",
    "df[\"delta_lat\"] = df[\"dropoff_latitude\"] - df[\"pickup_latitude\"]\n",
    "df[\"delta_lon\"] = df[\"dropoff_longitude\"] - df[\"pickup_longitude\"]\n",
    "\n",
    "df[\"distance_km\"] = df.apply(\n",
    "    lambda row: haversine(\n",
    "        row[\"pickup_longitude\"], row[\"pickup_latitude\"],\n",
    "        row[\"dropoff_longitude\"], row[\"dropoff_latitude\"]\n",
    "    ),\n",
    "    axis=1\n",
    ")\n",
    "df.head()"
   ]
  },
  {
   "cell_type": "code",
   "execution_count": 8,
   "metadata": {
    "id": "R5wJn1kQsiJr"
   },
   "outputs": [],
   "source": [
    "X_train, X_test, y_train, y_test = train_test_split(df.drop(columns='fare_amount'), df['fare_amount'], test_size=0.2, random_state=42)"
   ]
  },
  {
   "cell_type": "code",
   "execution_count": 9,
   "metadata": {
    "id": "hW-QZN1ysiJr",
    "outputId": "34124413-5a9d-4a42-f173-2e7cf5879880"
   },
   "outputs": [
    {
     "data": {
      "text/html": [
       "<div>\n",
       "<style scoped>\n",
       "    .dataframe tbody tr th:only-of-type {\n",
       "        vertical-align: middle;\n",
       "    }\n",
       "\n",
       "    .dataframe tbody tr th {\n",
       "        vertical-align: top;\n",
       "    }\n",
       "\n",
       "    .dataframe thead th {\n",
       "        text-align: right;\n",
       "    }\n",
       "</style>\n",
       "<table border=\"1\" class=\"dataframe\">\n",
       "  <thead>\n",
       "    <tr style=\"text-align: right;\">\n",
       "      <th></th>\n",
       "      <th>key</th>\n",
       "      <th>pickup_longitude</th>\n",
       "      <th>pickup_latitude</th>\n",
       "      <th>dropoff_longitude</th>\n",
       "      <th>dropoff_latitude</th>\n",
       "      <th>passenger_count</th>\n",
       "      <th>delta_lat</th>\n",
       "      <th>delta_lon</th>\n",
       "      <th>distance_km</th>\n",
       "    </tr>\n",
       "  </thead>\n",
       "  <tbody>\n",
       "    <tr>\n",
       "      <th>count</th>\n",
       "      <td>1.600000e+05</td>\n",
       "      <td>160000.000000</td>\n",
       "      <td>160000.000000</td>\n",
       "      <td>159999.000000</td>\n",
       "      <td>159999.000000</td>\n",
       "      <td>160000.000000</td>\n",
       "      <td>159999.000000</td>\n",
       "      <td>159999.000000</td>\n",
       "      <td>159999.000000</td>\n",
       "    </tr>\n",
       "    <tr>\n",
       "      <th>mean</th>\n",
       "      <td>2.771233e+07</td>\n",
       "      <td>-72.525896</td>\n",
       "      <td>39.936265</td>\n",
       "      <td>-72.525260</td>\n",
       "      <td>39.919258</td>\n",
       "      <td>1.684988</td>\n",
       "      <td>-0.017002</td>\n",
       "      <td>0.000627</td>\n",
       "      <td>20.591193</td>\n",
       "    </tr>\n",
       "    <tr>\n",
       "      <th>std</th>\n",
       "      <td>1.603218e+07</td>\n",
       "      <td>11.557753</td>\n",
       "      <td>8.090121</td>\n",
       "      <td>13.611271</td>\n",
       "      <td>6.880320</td>\n",
       "      <td>1.405686</td>\n",
       "      <td>6.166397</td>\n",
       "      <td>7.579727</td>\n",
       "      <td>380.549053</td>\n",
       "    </tr>\n",
       "    <tr>\n",
       "      <th>min</th>\n",
       "      <td>1.000000e+00</td>\n",
       "      <td>-1340.648410</td>\n",
       "      <td>-74.015515</td>\n",
       "      <td>-3356.666300</td>\n",
       "      <td>-881.985513</td>\n",
       "      <td>0.000000</td>\n",
       "      <td>-2174.001641</td>\n",
       "      <td>-2016.017890</td>\n",
       "      <td>0.000000</td>\n",
       "    </tr>\n",
       "    <tr>\n",
       "      <th>25%</th>\n",
       "      <td>1.379326e+07</td>\n",
       "      <td>-73.992062</td>\n",
       "      <td>40.734842</td>\n",
       "      <td>-73.991433</td>\n",
       "      <td>40.733835</td>\n",
       "      <td>1.000000</td>\n",
       "      <td>-0.013851</td>\n",
       "      <td>-0.011303</td>\n",
       "      <td>1.217936</td>\n",
       "    </tr>\n",
       "    <tr>\n",
       "      <th>50%</th>\n",
       "      <td>2.775608e+07</td>\n",
       "      <td>-73.981834</td>\n",
       "      <td>40.752594</td>\n",
       "      <td>-73.980080</td>\n",
       "      <td>40.753044</td>\n",
       "      <td>1.000000</td>\n",
       "      <td>0.000000</td>\n",
       "      <td>0.000499</td>\n",
       "      <td>2.125300</td>\n",
       "    </tr>\n",
       "    <tr>\n",
       "      <th>75%</th>\n",
       "      <td>4.155845e+07</td>\n",
       "      <td>-73.967212</td>\n",
       "      <td>40.767116</td>\n",
       "      <td>-73.963614</td>\n",
       "      <td>40.768055</td>\n",
       "      <td>2.000000</td>\n",
       "      <td>0.014001</td>\n",
       "      <td>0.013674</td>\n",
       "      <td>3.874418</td>\n",
       "    </tr>\n",
       "    <tr>\n",
       "      <th>max</th>\n",
       "      <td>5.542357e+07</td>\n",
       "      <td>57.418457</td>\n",
       "      <td>1644.421482</td>\n",
       "      <td>1153.572603</td>\n",
       "      <td>872.697628</td>\n",
       "      <td>208.000000</td>\n",
       "      <td>41.453693</td>\n",
       "      <td>1096.154146</td>\n",
       "      <td>16409.239135</td>\n",
       "    </tr>\n",
       "  </tbody>\n",
       "</table>\n",
       "</div>"
      ],
      "text/plain": [
       "                key  pickup_longitude  pickup_latitude  dropoff_longitude  \\\n",
       "count  1.600000e+05     160000.000000    160000.000000      159999.000000   \n",
       "mean   2.771233e+07        -72.525896        39.936265         -72.525260   \n",
       "std    1.603218e+07         11.557753         8.090121          13.611271   \n",
       "min    1.000000e+00      -1340.648410       -74.015515       -3356.666300   \n",
       "25%    1.379326e+07        -73.992062        40.734842         -73.991433   \n",
       "50%    2.775608e+07        -73.981834        40.752594         -73.980080   \n",
       "75%    4.155845e+07        -73.967212        40.767116         -73.963614   \n",
       "max    5.542357e+07         57.418457      1644.421482        1153.572603   \n",
       "\n",
       "       dropoff_latitude  passenger_count      delta_lat      delta_lon  \\\n",
       "count     159999.000000    160000.000000  159999.000000  159999.000000   \n",
       "mean          39.919258         1.684988      -0.017002       0.000627   \n",
       "std            6.880320         1.405686       6.166397       7.579727   \n",
       "min         -881.985513         0.000000   -2174.001641   -2016.017890   \n",
       "25%           40.733835         1.000000      -0.013851      -0.011303   \n",
       "50%           40.753044         1.000000       0.000000       0.000499   \n",
       "75%           40.768055         2.000000       0.014001       0.013674   \n",
       "max          872.697628       208.000000      41.453693    1096.154146   \n",
       "\n",
       "         distance_km  \n",
       "count  159999.000000  \n",
       "mean       20.591193  \n",
       "std       380.549053  \n",
       "min         0.000000  \n",
       "25%         1.217936  \n",
       "50%         2.125300  \n",
       "75%         3.874418  \n",
       "max     16409.239135  "
      ]
     },
     "execution_count": 9,
     "metadata": {},
     "output_type": "execute_result"
    }
   ],
   "source": [
    "X_train.describe()"
   ]
  },
  {
   "cell_type": "code",
   "execution_count": 10,
   "metadata": {
    "id": "FPyrf0vbsiJs"
   },
   "outputs": [
    {
     "data": {
      "text/plain": [
       "count    160000.000000\n",
       "mean         11.351493\n",
       "std           9.796726\n",
       "min         -52.000000\n",
       "25%           6.000000\n",
       "50%           8.500000\n",
       "75%          12.500000\n",
       "max         350.000000\n",
       "Name: fare_amount, dtype: float64"
      ]
     },
     "execution_count": 10,
     "metadata": {},
     "output_type": "execute_result"
    }
   ],
   "source": [
    "y_train.describe()"
   ]
  }
 ],
 "metadata": {
  "colab": {
   "provenance": []
  },
  "kernelspec": {
   "display_name": "Python 3",
   "language": "python",
   "name": "python3"
  },
  "language_info": {
   "codemirror_mode": {
    "name": "ipython",
    "version": 3
   },
   "file_extension": ".py",
   "mimetype": "text/x-python",
   "name": "python",
   "nbconvert_exporter": "python",
   "pygments_lexer": "ipython3",
   "version": "3.12.3"
  },
  "orig_nbformat": 4
 },
 "nbformat": 4,
 "nbformat_minor": 0
}
